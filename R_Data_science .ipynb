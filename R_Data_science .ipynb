{
 "cells": [
  {
   "cell_type": "code",
   "execution_count": 1,
   "metadata": {
    "collapsed": true
   },
   "outputs": [],
   "source": [
    "library(ggplot2)"
   ]
  },
  {
   "cell_type": "code",
   "execution_count": 2,
   "metadata": {
    "collapsed": false
   },
   "outputs": [
    {
     "data": {
      "text/html": [
       "0.75"
      ],
      "text/latex": [
       "0.75"
      ],
      "text/markdown": [
       "0.75"
      ],
      "text/plain": [
       "[1] 0.75"
      ]
     },
     "metadata": {},
     "output_type": "display_data"
    }
   ],
   "source": [
    "3 / 4"
   ]
  },
  {
   "cell_type": "code",
   "execution_count": 3,
   "metadata": {
    "collapsed": true
   },
   "outputs": [],
   "source": [
    "data = read.table(\"conversion_data.csv\")"
   ]
  },
  {
   "cell_type": "code",
   "execution_count": 4,
   "metadata": {
    "collapsed": false
   },
   "outputs": [
    {
     "name": "stdout",
     "output_type": "stream",
     "text": [
      "'data.frame':\t316201 obs. of  1 variable:\n",
      " $ V1: Factor w/ 16298 levels \"China,17,0,Ads,1,0\",..: 3313 7435 11780 12692 2034 13050 13121 978 11621 7959 ...\n"
     ]
    }
   ],
   "source": [
    "str(data)"
   ]
  },
  {
   "cell_type": "code",
   "execution_count": 5,
   "metadata": {
    "collapsed": false
   },
   "outputs": [
    {
     "data": {
      "text/html": [
       "<table>\n",
       "<thead><tr><th scope=col>V1</th></tr></thead>\n",
       "<tbody>\n",
       "\t<tr><td>country,age,new_user,source,total_pages_visited,converted</td></tr>\n",
       "\t<tr><td>UK,25,1,Ads,1,0                                          </td></tr>\n",
       "\t<tr><td>US,23,1,Seo,5,0                                          </td></tr>\n",
       "\t<tr><td>US,28,1,Seo,4,0                                          </td></tr>\n",
       "\t<tr><td>China,39,1,Seo,5,0                                       </td></tr>\n",
       "\t<tr><td>US,30,1,Seo,6,0                                          </td></tr>\n",
       "</tbody>\n",
       "</table>\n"
      ],
      "text/latex": [
       "\\begin{tabular}{r|l}\n",
       " V1\\\\\n",
       "\\hline\n",
       "\t country,age,new\\_user,source,total\\_pages\\_visited,converted\\\\\n",
       "\t UK,25,1,Ads,1,0                                          \\\\\n",
       "\t US,23,1,Seo,5,0                                          \\\\\n",
       "\t US,28,1,Seo,4,0                                          \\\\\n",
       "\t China,39,1,Seo,5,0                                       \\\\\n",
       "\t US,30,1,Seo,6,0                                          \\\\\n",
       "\\end{tabular}\n"
      ],
      "text/markdown": [
       "\n",
       "V1 | \n",
       "|---|---|---|---|---|---|\n",
       "| country,age,new_user,source,total_pages_visited,converted | \n",
       "| UK,25,1,Ads,1,0                                           | \n",
       "| US,23,1,Seo,5,0                                           | \n",
       "| US,28,1,Seo,4,0                                           | \n",
       "| China,39,1,Seo,5,0                                        | \n",
       "| US,30,1,Seo,6,0                                           | \n",
       "\n",
       "\n"
      ],
      "text/plain": [
       "  V1                                                       \n",
       "1 country,age,new_user,source,total_pages_visited,converted\n",
       "2 UK,25,1,Ads,1,0                                          \n",
       "3 US,23,1,Seo,5,0                                          \n",
       "4 US,28,1,Seo,4,0                                          \n",
       "5 China,39,1,Seo,5,0                                       \n",
       "6 US,30,1,Seo,6,0                                          "
      ]
     },
     "metadata": {},
     "output_type": "display_data"
    }
   ],
   "source": []
  },
  {
   "cell_type": "code",
   "execution_count": null,
   "metadata": {
    "collapsed": true
   },
   "outputs": [],
   "source": []
  }
 ],
 "metadata": {
  "kernelspec": {
   "display_name": "R",
   "language": "R",
   "name": "ir"
  },
  "language_info": {
   "codemirror_mode": "r",
   "file_extension": ".r",
   "mimetype": "text/x-r-source",
   "name": "R",
   "pygments_lexer": "r",
   "version": "3.3.2"
  }
 },
 "nbformat": 4,
 "nbformat_minor": 0
}
